{
 "cells": [
  {
   "cell_type": "markdown",
   "metadata": {
    "id": "6HoIPSiTyHtu"
   },
   "source": [
    "# Predict the probability of Heart Disease - CS4661 - Jaquan Jones\n",
    "(Question 2)"
   ]
  },
  {
   "cell_type": "code",
   "execution_count": 1,
   "metadata": {
    "id": "ejqQmABanorh"
   },
   "outputs": [],
   "source": [
    "# library imports\n",
    "import numpy as np\n",
    "import pandas as pd\n",
    "\n",
    "import matplotlib.pyplot as mpl\n",
    "\n",
    "from sklearn.linear_model import LogisticRegression\n",
    "\n",
    "from sklearn.pipeline import make_pipeline\n",
    "from sklearn.preprocessing import StandardScaler\n",
    "\n",
    "from sklearn.model_selection import train_test_split, cross_val_score\n",
    "from sklearn.metrics import accuracy_score, roc_curve, auc\n",
    "from sklearn import preprocessing"
   ]
  },
  {
   "cell_type": "markdown",
   "metadata": {
    "id": "dDc2FB5enXaz"
   },
   "source": [
    "### A. In this question, we work with a simplified version of Heart dataset. Read the dataset file “Heart_short.csv” ([from github](https://github.com/mpourhoma/CS4661/raw/master/Heart_short.csv)), and assign it to a Pandas DataFrame."
   ]
  },
  {
   "cell_type": "code",
   "execution_count": 2,
   "metadata": {
    "colab": {
     "base_uri": "https://localhost:8080/",
     "height": 419
    },
    "id": "m1xtaj6knqst",
    "outputId": "7691bcfe-7072-49da-9ca8-03197761879e"
   },
   "outputs": [
    {
     "data": {
      "text/html": [
       "<div>\n",
       "<style scoped>\n",
       "    .dataframe tbody tr th:only-of-type {\n",
       "        vertical-align: middle;\n",
       "    }\n",
       "\n",
       "    .dataframe tbody tr th {\n",
       "        vertical-align: top;\n",
       "    }\n",
       "\n",
       "    .dataframe thead th {\n",
       "        text-align: right;\n",
       "    }\n",
       "</style>\n",
       "<table border=\"1\" class=\"dataframe\">\n",
       "  <thead>\n",
       "    <tr style=\"text-align: right;\">\n",
       "      <th></th>\n",
       "      <th>Age</th>\n",
       "      <th>RestBP</th>\n",
       "      <th>Chol</th>\n",
       "      <th>RestECG</th>\n",
       "      <th>MaxHR</th>\n",
       "      <th>Oldpeak</th>\n",
       "      <th>AHD</th>\n",
       "    </tr>\n",
       "  </thead>\n",
       "  <tbody>\n",
       "    <tr>\n",
       "      <th>0</th>\n",
       "      <td>63</td>\n",
       "      <td>145</td>\n",
       "      <td>233</td>\n",
       "      <td>2</td>\n",
       "      <td>150</td>\n",
       "      <td>2.3</td>\n",
       "      <td>No</td>\n",
       "    </tr>\n",
       "    <tr>\n",
       "      <th>1</th>\n",
       "      <td>67</td>\n",
       "      <td>160</td>\n",
       "      <td>286</td>\n",
       "      <td>2</td>\n",
       "      <td>108</td>\n",
       "      <td>1.5</td>\n",
       "      <td>Yes</td>\n",
       "    </tr>\n",
       "    <tr>\n",
       "      <th>2</th>\n",
       "      <td>67</td>\n",
       "      <td>120</td>\n",
       "      <td>229</td>\n",
       "      <td>2</td>\n",
       "      <td>129</td>\n",
       "      <td>2.6</td>\n",
       "      <td>Yes</td>\n",
       "    </tr>\n",
       "    <tr>\n",
       "      <th>3</th>\n",
       "      <td>37</td>\n",
       "      <td>130</td>\n",
       "      <td>250</td>\n",
       "      <td>0</td>\n",
       "      <td>187</td>\n",
       "      <td>3.5</td>\n",
       "      <td>No</td>\n",
       "    </tr>\n",
       "    <tr>\n",
       "      <th>4</th>\n",
       "      <td>41</td>\n",
       "      <td>130</td>\n",
       "      <td>204</td>\n",
       "      <td>2</td>\n",
       "      <td>172</td>\n",
       "      <td>1.4</td>\n",
       "      <td>No</td>\n",
       "    </tr>\n",
       "    <tr>\n",
       "      <th>...</th>\n",
       "      <td>...</td>\n",
       "      <td>...</td>\n",
       "      <td>...</td>\n",
       "      <td>...</td>\n",
       "      <td>...</td>\n",
       "      <td>...</td>\n",
       "      <td>...</td>\n",
       "    </tr>\n",
       "    <tr>\n",
       "      <th>276</th>\n",
       "      <td>45</td>\n",
       "      <td>110</td>\n",
       "      <td>264</td>\n",
       "      <td>0</td>\n",
       "      <td>132</td>\n",
       "      <td>1.2</td>\n",
       "      <td>Yes</td>\n",
       "    </tr>\n",
       "    <tr>\n",
       "      <th>277</th>\n",
       "      <td>68</td>\n",
       "      <td>144</td>\n",
       "      <td>193</td>\n",
       "      <td>0</td>\n",
       "      <td>141</td>\n",
       "      <td>3.4</td>\n",
       "      <td>Yes</td>\n",
       "    </tr>\n",
       "    <tr>\n",
       "      <th>278</th>\n",
       "      <td>57</td>\n",
       "      <td>130</td>\n",
       "      <td>131</td>\n",
       "      <td>0</td>\n",
       "      <td>115</td>\n",
       "      <td>1.2</td>\n",
       "      <td>Yes</td>\n",
       "    </tr>\n",
       "    <tr>\n",
       "      <th>279</th>\n",
       "      <td>57</td>\n",
       "      <td>130</td>\n",
       "      <td>236</td>\n",
       "      <td>2</td>\n",
       "      <td>174</td>\n",
       "      <td>0.0</td>\n",
       "      <td>Yes</td>\n",
       "    </tr>\n",
       "    <tr>\n",
       "      <th>280</th>\n",
       "      <td>38</td>\n",
       "      <td>138</td>\n",
       "      <td>175</td>\n",
       "      <td>0</td>\n",
       "      <td>173</td>\n",
       "      <td>0.0</td>\n",
       "      <td>No</td>\n",
       "    </tr>\n",
       "  </tbody>\n",
       "</table>\n",
       "<p>281 rows × 7 columns</p>\n",
       "</div>"
      ],
      "text/plain": [
       "     Age  RestBP  Chol  RestECG  MaxHR  Oldpeak  AHD\n",
       "0     63     145   233        2    150      2.3   No\n",
       "1     67     160   286        2    108      1.5  Yes\n",
       "2     67     120   229        2    129      2.6  Yes\n",
       "3     37     130   250        0    187      3.5   No\n",
       "4     41     130   204        2    172      1.4   No\n",
       "..   ...     ...   ...      ...    ...      ...  ...\n",
       "276   45     110   264        0    132      1.2  Yes\n",
       "277   68     144   193        0    141      3.4  Yes\n",
       "278   57     130   131        0    115      1.2  Yes\n",
       "279   57     130   236        2    174      0.0  Yes\n",
       "280   38     138   175        0    173      0.0   No\n",
       "\n",
       "[281 rows x 7 columns]"
      ]
     },
     "execution_count": 2,
     "metadata": {},
     "output_type": "execute_result"
    }
   ],
   "source": [
    "# read csv data to dataframe\n",
    "df  = pd.read_csv(\"https://github.com/mpourhoma/CS4661/raw/master/Heart_short.csv\")\n",
    "\n",
    "df"
   ]
  },
  {
   "cell_type": "markdown",
   "metadata": {
    "id": "1RJ9yS3_nc3h"
   },
   "source": [
    "### B. Generate the feature matrix and label vector (AHD). Then, normalize (scale) the features.\n",
    "\n"
   ]
  },
  {
   "cell_type": "code",
   "execution_count": 3,
   "metadata": {
    "colab": {
     "base_uri": "https://localhost:8080/",
     "height": 419
    },
    "id": "1s-d5VE7nurY",
    "outputId": "7fa306a9-13f2-4e23-e4e5-bf3311849a5a"
   },
   "outputs": [
    {
     "data": {
      "text/html": [
       "<div>\n",
       "<style scoped>\n",
       "    .dataframe tbody tr th:only-of-type {\n",
       "        vertical-align: middle;\n",
       "    }\n",
       "\n",
       "    .dataframe tbody tr th {\n",
       "        vertical-align: top;\n",
       "    }\n",
       "\n",
       "    .dataframe thead th {\n",
       "        text-align: right;\n",
       "    }\n",
       "</style>\n",
       "<table border=\"1\" class=\"dataframe\">\n",
       "  <thead>\n",
       "    <tr style=\"text-align: right;\">\n",
       "      <th></th>\n",
       "      <th>Age</th>\n",
       "      <th>RestBP</th>\n",
       "      <th>Chol</th>\n",
       "      <th>RestECG</th>\n",
       "      <th>MaxHR</th>\n",
       "      <th>Oldpeak</th>\n",
       "    </tr>\n",
       "  </thead>\n",
       "  <tbody>\n",
       "    <tr>\n",
       "      <th>0</th>\n",
       "      <td>63</td>\n",
       "      <td>145</td>\n",
       "      <td>233</td>\n",
       "      <td>2</td>\n",
       "      <td>150</td>\n",
       "      <td>2.3</td>\n",
       "    </tr>\n",
       "    <tr>\n",
       "      <th>1</th>\n",
       "      <td>67</td>\n",
       "      <td>160</td>\n",
       "      <td>286</td>\n",
       "      <td>2</td>\n",
       "      <td>108</td>\n",
       "      <td>1.5</td>\n",
       "    </tr>\n",
       "    <tr>\n",
       "      <th>2</th>\n",
       "      <td>67</td>\n",
       "      <td>120</td>\n",
       "      <td>229</td>\n",
       "      <td>2</td>\n",
       "      <td>129</td>\n",
       "      <td>2.6</td>\n",
       "    </tr>\n",
       "    <tr>\n",
       "      <th>3</th>\n",
       "      <td>37</td>\n",
       "      <td>130</td>\n",
       "      <td>250</td>\n",
       "      <td>0</td>\n",
       "      <td>187</td>\n",
       "      <td>3.5</td>\n",
       "    </tr>\n",
       "    <tr>\n",
       "      <th>4</th>\n",
       "      <td>41</td>\n",
       "      <td>130</td>\n",
       "      <td>204</td>\n",
       "      <td>2</td>\n",
       "      <td>172</td>\n",
       "      <td>1.4</td>\n",
       "    </tr>\n",
       "    <tr>\n",
       "      <th>...</th>\n",
       "      <td>...</td>\n",
       "      <td>...</td>\n",
       "      <td>...</td>\n",
       "      <td>...</td>\n",
       "      <td>...</td>\n",
       "      <td>...</td>\n",
       "    </tr>\n",
       "    <tr>\n",
       "      <th>276</th>\n",
       "      <td>45</td>\n",
       "      <td>110</td>\n",
       "      <td>264</td>\n",
       "      <td>0</td>\n",
       "      <td>132</td>\n",
       "      <td>1.2</td>\n",
       "    </tr>\n",
       "    <tr>\n",
       "      <th>277</th>\n",
       "      <td>68</td>\n",
       "      <td>144</td>\n",
       "      <td>193</td>\n",
       "      <td>0</td>\n",
       "      <td>141</td>\n",
       "      <td>3.4</td>\n",
       "    </tr>\n",
       "    <tr>\n",
       "      <th>278</th>\n",
       "      <td>57</td>\n",
       "      <td>130</td>\n",
       "      <td>131</td>\n",
       "      <td>0</td>\n",
       "      <td>115</td>\n",
       "      <td>1.2</td>\n",
       "    </tr>\n",
       "    <tr>\n",
       "      <th>279</th>\n",
       "      <td>57</td>\n",
       "      <td>130</td>\n",
       "      <td>236</td>\n",
       "      <td>2</td>\n",
       "      <td>174</td>\n",
       "      <td>0.0</td>\n",
       "    </tr>\n",
       "    <tr>\n",
       "      <th>280</th>\n",
       "      <td>38</td>\n",
       "      <td>138</td>\n",
       "      <td>175</td>\n",
       "      <td>0</td>\n",
       "      <td>173</td>\n",
       "      <td>0.0</td>\n",
       "    </tr>\n",
       "  </tbody>\n",
       "</table>\n",
       "<p>281 rows × 6 columns</p>\n",
       "</div>"
      ],
      "text/plain": [
       "     Age  RestBP  Chol  RestECG  MaxHR  Oldpeak\n",
       "0     63     145   233        2    150      2.3\n",
       "1     67     160   286        2    108      1.5\n",
       "2     67     120   229        2    129      2.6\n",
       "3     37     130   250        0    187      3.5\n",
       "4     41     130   204        2    172      1.4\n",
       "..   ...     ...   ...      ...    ...      ...\n",
       "276   45     110   264        0    132      1.2\n",
       "277   68     144   193        0    141      3.4\n",
       "278   57     130   131        0    115      1.2\n",
       "279   57     130   236        2    174      0.0\n",
       "280   38     138   175        0    173      0.0\n",
       "\n",
       "[281 rows x 6 columns]"
      ]
     },
     "execution_count": 3,
     "metadata": {},
     "output_type": "execute_result"
    }
   ],
   "source": [
    "# define feature matrix columns for feature matrix\n",
    "feature_labels = ['Age', 'RestBP', 'Chol', 'RestECG', 'MaxHR', 'Oldpeak']\n",
    "\n",
    "X = df[feature_labels] \n",
    "\n",
    "X"
   ]
  },
  {
   "cell_type": "code",
   "execution_count": 4,
   "metadata": {
    "colab": {
     "base_uri": "https://localhost:8080/"
    },
    "id": "KeOFV5Fuq6_P",
    "outputId": "8ffb5142-01ea-4a46-cd37-6f8c52a42bd2"
   },
   "outputs": [
    {
     "data": {
      "text/plain": [
       "0      0\n",
       "1      1\n",
       "2      1\n",
       "3      0\n",
       "4      0\n",
       "      ..\n",
       "276    1\n",
       "277    1\n",
       "278    1\n",
       "279    1\n",
       "280    0\n",
       "Name: NumericalAHD, Length: 281, dtype: int64"
      ]
     },
     "execution_count": 4,
     "metadata": {},
     "output_type": "execute_result"
    }
   ],
   "source": [
    "# define label vector\n",
    "y_categorical = df['AHD']\n",
    "\n",
    "numerical_label = lambda label: 0 if label == 'No' else 1\n",
    "\n",
    "df['NumericalAHD'] = [numerical_label(value) for value in y_categorical]\n",
    "# df['NumericalAHD'] = df['AHD'].apply(numerical_label)\n",
    "\n",
    "y = df['NumericalAHD']\n",
    "\n",
    "y"
   ]
  },
  {
   "cell_type": "code",
   "execution_count": 5,
   "metadata": {
    "colab": {
     "base_uri": "https://localhost:8080/"
    },
    "id": "-_J2z017vKxY",
    "outputId": "2ce3c538-17aa-495e-dc4a-58bd4ac78947"
   },
   "outputs": [
    {
     "data": {
      "text/plain": [
       "array([[ 0.94788279,  0.74978425, -0.25859799,  1.04743633, -0.00919313,\n",
       "         1.13182982],\n",
       "       [ 1.38542704,  1.59842565,  0.75330422,  1.04743633, -1.84813139,\n",
       "         0.43550978],\n",
       "       [ 1.38542704, -0.6646181 , -0.33496796,  1.04743633, -0.92866226,\n",
       "         1.39294984],\n",
       "       ...,\n",
       "       [ 0.29156641, -0.09885716, -2.20603242, -0.96851989, -1.54164168,\n",
       "         0.17438976],\n",
       "       [ 0.29156641, -0.09885716, -0.2013205 ,  1.04743633,  1.04162873,\n",
       "        -0.8700903 ],\n",
       "       [-1.78676878,  0.35375159, -1.36596267, -0.96851989,  0.99784448,\n",
       "        -0.8700903 ]])"
      ]
     },
     "execution_count": 5,
     "metadata": {},
     "output_type": "execute_result"
    }
   ],
   "source": [
    "# normalize (scale) features\n",
    "normalized_X = preprocessing.scale(X)\n",
    "\n",
    "normalized_X"
   ]
  },
  {
   "cell_type": "markdown",
   "metadata": {
    "id": "Ar7ilsgInf4c"
   },
   "source": [
    "### C. Split the dataset into testing and training sets with the following parameters: test_size=0.25, random_state=3.\n",
    "\n"
   ]
  },
  {
   "cell_type": "code",
   "execution_count": 6,
   "metadata": {
    "colab": {
     "base_uri": "https://localhost:8080/"
    },
    "id": "_19cx5sqn1Qx",
    "outputId": "89df5719-7e7b-410d-ad80-306e499efb3f"
   },
   "outputs": [
    {
     "name": "stdout",
     "output_type": "stream",
     "text": [
      "(210, 6)\n",
      "(210,)\n",
      "(71, 6)\n",
      "(71,)\n"
     ]
    }
   ],
   "source": [
    "# split dataset into testing and training sets\n",
    "X_train, X_test, y_train, y_test = train_test_split(normalized_X, y, test_size=0.25, random_state=3)\n",
    "\n",
    "# check shapes of testing and training sets\n",
    "print(X_train.shape)\n",
    "print(y_train.shape)\n",
    "print(X_test.shape)\n",
    "print(y_test.shape)"
   ]
  },
  {
   "cell_type": "markdown",
   "metadata": {
    "id": "2crxI4VfnhQB"
   },
   "source": [
    "### D. Use Logistic Regression Classifier to predict Heart Disease occurrence based on the training/testing datasets that you built in part(c). Then, compute and report the Accuracy.\n",
    "\n",
    "* Use Logistic Regression Classifier to predict the probability of Heart Disease based on the training/testing datasets that you built in part (c) (you have to use “my_logreg.predict_proba” method rather than “my_logreg.predict”).\n",
    "\n",
    "* Plot the **Roc Curve** for this classifier.\n",
    "* Compute the **AUC** (Area Under Curve for ROC)."
   ]
  },
  {
   "cell_type": "code",
   "execution_count": 7,
   "metadata": {
    "colab": {
     "base_uri": "https://localhost:8080/"
    },
    "id": "6M1gAJR_yBFe",
    "outputId": "9b0bb249-00d9-409f-c48e-d5b08a18e634"
   },
   "outputs": [
    {
     "name": "stdout",
     "output_type": "stream",
     "text": [
      "Predictions:\n",
      "[1 0 1 1 0 0 0 0 1 0 1 0 1 1 0 0 1 0 1 1 0 0 1 0 1 0 0 1 0 0 1 1 1 0 0 1 1\n",
      " 0 1 0 0 1 0 0 1 1 0 0 1 0 0 1 0 1 0 0 0 0 0 0 1 0 0 0 0 0 0 0 0 0 0]\n",
      "\n",
      "Logistic Regression Classifier accuracy score: 0.7183098591549296\n"
     ]
    }
   ],
   "source": [
    "# implementing logistic regression classifier with training/testing datasets\n",
    "logreg = LogisticRegression()\n",
    "\n",
    "logreg.fit(X_train, y_train)\n",
    "\n",
    "y_predictions = logreg.predict(X_test)\n",
    "\n",
    "print('Predictions:')\n",
    "print(y_predictions)\n",
    "logreg_accuracy_score = accuracy_score(y_test, y_predictions)\n",
    "\n",
    "print(f'\\nLogistic Regression Classifier accuracy score: {logreg_accuracy_score}')"
   ]
  },
  {
   "cell_type": "code",
   "execution_count": 8,
   "metadata": {
    "colab": {
     "base_uri": "https://localhost:8080/"
    },
    "id": "Cp3IQZvRScF8",
    "outputId": "bd28d43d-256b-424f-ccfc-f4358af9f0f0"
   },
   "outputs": [
    {
     "name": "stdout",
     "output_type": "stream",
     "text": [
      "Probability of Heart Disease:\n",
      "[[0.49847189 0.50152811]\n",
      " [0.55153223 0.44846777]\n",
      " [0.39514152 0.60485848]\n",
      " [0.39636475 0.60363525]\n",
      " [0.8463285  0.1536715 ]\n",
      " [0.77042084 0.22957916]\n",
      " [0.73485372 0.26514628]\n",
      " [0.86548609 0.13451391]\n",
      " [0.35529864 0.64470136]\n",
      " [0.6707959  0.3292041 ]\n",
      " [0.09558374 0.90441626]\n",
      " [0.91924811 0.08075189]\n",
      " [0.29096442 0.70903558]\n",
      " [0.43043601 0.56956399]\n",
      " [0.66808153 0.33191847]\n",
      " [0.85924791 0.14075209]\n",
      " [0.11598482 0.88401518]\n",
      " [0.68324451 0.31675549]\n",
      " [0.11239963 0.88760037]\n",
      " [0.33485811 0.66514189]\n",
      " [0.85412798 0.14587202]\n",
      " [0.86376748 0.13623252]\n",
      " [0.22496489 0.77503511]\n",
      " [0.92910529 0.07089471]\n",
      " [0.10918691 0.89081309]\n",
      " [0.57443365 0.42556635]\n",
      " [0.72926897 0.27073103]\n",
      " [0.43211917 0.56788083]\n",
      " [0.67752917 0.32247083]\n",
      " [0.77600088 0.22399912]\n",
      " [0.30112704 0.69887296]\n",
      " [0.10864797 0.89135203]\n",
      " [0.17558051 0.82441949]\n",
      " [0.89158205 0.10841795]\n",
      " [0.81006702 0.18993298]\n",
      " [0.01129614 0.98870386]\n",
      " [0.06726456 0.93273544]\n",
      " [0.73258706 0.26741294]\n",
      " [0.20480859 0.79519141]\n",
      " [0.51449134 0.48550866]\n",
      " [0.717008   0.282992  ]\n",
      " [0.30586875 0.69413125]\n",
      " [0.66332514 0.33667486]\n",
      " [0.82077467 0.17922533]\n",
      " [0.03389153 0.96610847]\n",
      " [0.33728943 0.66271057]\n",
      " [0.87471223 0.12528777]\n",
      " [0.85656489 0.14343511]\n",
      " [0.36827265 0.63172735]\n",
      " [0.59762218 0.40237782]\n",
      " [0.62964398 0.37035602]\n",
      " [0.19469254 0.80530746]\n",
      " [0.96086695 0.03913305]\n",
      " [0.23063202 0.76936798]\n",
      " [0.88832735 0.11167265]\n",
      " [0.80533346 0.19466654]\n",
      " [0.88755409 0.11244591]\n",
      " [0.6431908  0.3568092 ]\n",
      " [0.83719082 0.16280918]\n",
      " [0.77051304 0.22948696]\n",
      " [0.27750557 0.72249443]\n",
      " [0.82840511 0.17159489]\n",
      " [0.76703016 0.23296984]\n",
      " [0.66246843 0.33753157]\n",
      " [0.75594836 0.24405164]\n",
      " [0.87543785 0.12456215]\n",
      " [0.69515727 0.30484273]\n",
      " [0.92701804 0.07298196]\n",
      " [0.90591669 0.09408331]\n",
      " [0.77008821 0.22991179]\n",
      " [0.91698898 0.08301102]]\n"
     ]
    }
   ],
   "source": [
    "# y_pred_prob = 'y predictions probability'\n",
    "y_pred_prob = logreg.predict_proba(X_test)\n",
    "\n",
    "print(f'Probability of Heart Disease:\\n{y_pred_prob}')"
   ]
  },
  {
   "cell_type": "code",
   "execution_count": 9,
   "metadata": {
    "colab": {
     "base_uri": "https://localhost:8080/"
    },
    "id": "23RfSEOVMr4n",
    "outputId": "43308f14-ee03-4ca9-cc21-02363f3fae0b"
   },
   "outputs": [
    {
     "name": "stdout",
     "output_type": "stream",
     "text": [
      "False positive rate:\n",
      "\n",
      "[0.         0.         0.02439024 0.02439024 0.04878049 0.04878049\n",
      " 0.09756098 0.09756098 0.12195122 0.12195122 0.14634146 0.14634146\n",
      " 0.2195122  0.2195122  0.29268293 0.29268293 0.3902439  0.3902439\n",
      " 0.41463415 0.41463415 0.46341463 0.46341463 0.56097561 0.56097561\n",
      " 0.68292683 0.68292683 0.70731707 0.70731707 0.73170732 0.73170732\n",
      " 1.        ]\n",
      "\n",
      "True positive rate:\n",
      "\n",
      "[0.         0.03333333 0.03333333 0.33333333 0.33333333 0.36666667\n",
      " 0.36666667 0.4        0.4        0.53333333 0.53333333 0.6\n",
      " 0.6        0.63333333 0.63333333 0.7        0.7        0.73333333\n",
      " 0.73333333 0.76666667 0.76666667 0.83333333 0.83333333 0.86666667\n",
      " 0.86666667 0.93333333 0.93333333 0.96666667 0.96666667 1.\n",
      " 1.        ]\n"
     ]
    }
   ],
   "source": [
    "# calculate true positive rate (tpr) and false positive rate (fpr)\n",
    "fpr, tpr, thresholds = roc_curve(y_test, y_pred_prob[:,1], pos_label=1)\n",
    "\n",
    "print(f'False positive rate:\\n\\n{fpr}\\n\\nTrue positive rate:\\n\\n{tpr}')\n"
   ]
  },
  {
   "cell_type": "code",
   "execution_count": 10,
   "metadata": {
    "colab": {
     "base_uri": "https://localhost:8080/"
    },
    "id": "FCn0bsXVOsfV",
    "outputId": "83726d61-178e-47aa-bcda-f1e56414befc"
   },
   "outputs": [
    {
     "name": "stdout",
     "output_type": "stream",
     "text": [
      "Area under curve (AUC) for ROC: 0.7650406504065042\n"
     ]
    }
   ],
   "source": [
    "# calculate area under the curve (AUC)\n",
    "AUC = auc(fpr, tpr)\n",
    "\n",
    "print(f'Area under curve (AUC) for ROC: {AUC}')"
   ]
  },
  {
   "cell_type": "code",
   "execution_count": 11,
   "metadata": {
    "colab": {
     "base_uri": "https://localhost:8080/",
     "height": 295
    },
    "id": "VKx4yqB0Paa8",
    "outputId": "669b894f-7829-4a05-b288-8dc8cb2cc6a5"
   },
   "outputs": [
    {
     "data": {
      "image/png": "[encoded data removed]",
      "text/plain": [
       "<Figure size 432x288 with 1 Axes>"
      ]
     },
     "metadata": {
      "needs_background": "light"
     },
     "output_type": "display_data"
    }
   ],
   "source": [
    "# plotting receiver operating characteristic (ROC) curve\n",
    "%matplotlib inline\n",
    "\n",
    "mpl.figure()\n",
    "\n",
    "# ROC curve\n",
    "mpl.plot(fpr, tpr, color='red', lw=1, label='ROC Curve (area = %0.2f)' % AUC)\n",
    "\n",
    "# random guess line\n",
    "mpl.plot([0,1], [0,1], color='blue', lw=1, linestyle='--')\n",
    "\n",
    "# range of X and Y axis \n",
    "mpl.xlim([-0.005, 1.005])\n",
    "mpl.ylim([0.0, 1.01])\n",
    "\n",
    "# axis labels\n",
    "mpl.xlabel('False Positive Rate (FPR)')\n",
    "mpl.ylabel('True Positive Rate (TPR)')\n",
    "\n",
    "# title and legend\n",
    "mpl.title('ROC')\n",
    "mpl.legend(loc=\"lower right\")\n",
    "\n",
    "mpl.show()"
   ]
  }
 ],
 "metadata": {
  "colab": {
   "name": "CS4661-HW4-Question2.ipynb",
   "provenance": []
  },
  "kernelspec": {
   "display_name": "Python 3",
   "language": "python",
   "name": "python3"
  },
  "language_info": {
   "codemirror_mode": {
    "name": "ipython",
    "version": 3
   },
   "file_extension": ".py",
   "mimetype": "text/x-python",
   "name": "python",
   "nbconvert_exporter": "python",
   "pygments_lexer": "ipython3",
   "version": "3.8.8"
  }
 },
 "nbformat": 4,
 "nbformat_minor": 1
}
