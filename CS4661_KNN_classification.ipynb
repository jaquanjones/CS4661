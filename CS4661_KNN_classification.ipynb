{
  "nbformat": 4,
  "nbformat_minor": 0,
  "metadata": {
    "colab": {
      "name": "CS4661-KNN_classification.ipynb",
      "provenance": [],
      "authorship_tag": "ABX9TyNtOnpDio/YyknKV/1mGPvd",
      "include_colab_link": true
    },
    "kernelspec": {
      "name": "python3",
      "display_name": "Python 3"
    },
    "language_info": {
      "name": "python"
    }
  },
  "cells": [
    {
      "cell_type": "markdown",
      "metadata": {
        "id": "view-in-github",
        "colab_type": "text"
      },
      "source": [
        "<a href=\"https://colab.research.google.com/github/jaquanjones/CS4661/blob/main/CS4661_KNN_classification.ipynb\" target=\"_parent\"><img src=\"https://colab.research.google.com/assets/colab-badge.svg\" alt=\"Open In Colab\"/></a>"
      ]
    },
    {
      "cell_type": "markdown",
      "metadata": {
        "id": "_hfFGda845Cr"
      },
      "source": [
        "# CS4661 - KNN Classification\n",
        "\n",
        "## Objective:\n",
        "  1. Determine increasing amount of nearest neighbots, K always improves the accuracy of predictions</br></br>\n",
        "  2. Determine which two features provide the most accuracy independently in predictions</br></br>\n",
        "  3. Determine which combination of two features provide the most accuracy in predictions</br></br>\n",
        "  4. Determine if the two features providing the most accurate predictions independently are the same two features in the feature pair that provides the most accuracy"
      ]
    },
    {
      "cell_type": "markdown",
      "metadata": {
        "id": "PYEwwQFLo6A8"
      },
      "source": [
        "Reading the iris flower dataset from the following URL: https://raw.githubusercontent.com/mpourhoma/CS4661/master/iris.csv (Links to an external site.) and assign it to a Pandas DataFrame."
      ]
    },
    {
      "cell_type": "code",
      "metadata": {
        "id": "uAGoWvnv5yo8"
      },
      "source": [
        "from sklearn.neighbors import KNeighborsClassifier\n",
        "import numpy as np\n",
        "import pandas as pd\n",
        "\n"
      ],
      "execution_count": null,
      "outputs": []
    },
    {
      "cell_type": "code",
      "metadata": {
        "colab": {
          "base_uri": "https://localhost:8080/",
          "height": 419
        },
        "id": "wtXX9VfC6F3n",
        "outputId": "b7c04edb-6260-4b94-e048-21e5529e17d6"
      },
      "source": [
        "# reading data from url\n",
        "iris_df = pd.read_csv('https://raw.githubusercontent.com/mpourhoma/CS4661/master/iris.csv')\n",
        "\n",
        "iris_df\n"
      ],
      "execution_count": null,
      "outputs": [
        {
          "output_type": "execute_result",
          "data": {
            "text/html": [
              "<div>\n",
              "<style scoped>\n",
              "    .dataframe tbody tr th:only-of-type {\n",
              "        vertical-align: middle;\n",
              "    }\n",
              "\n",
              "    .dataframe tbody tr th {\n",
              "        vertical-align: top;\n",
              "    }\n",
              "\n",
              "    .dataframe thead th {\n",
              "        text-align: right;\n",
              "    }\n",
              "</style>\n",
              "<table border=\"1\" class=\"dataframe\">\n",
              "  <thead>\n",
              "    <tr style=\"text-align: right;\">\n",
              "      <th></th>\n",
              "      <th>sepal_length</th>\n",
              "      <th>sepal_width</th>\n",
              "      <th>petal_length</th>\n",
              "      <th>petal_width</th>\n",
              "      <th>species</th>\n",
              "    </tr>\n",
              "  </thead>\n",
              "  <tbody>\n",
              "    <tr>\n",
              "      <th>0</th>\n",
              "      <td>5.1</td>\n",
              "      <td>3.5</td>\n",
              "      <td>1.4</td>\n",
              "      <td>0.2</td>\n",
              "      <td>setosa</td>\n",
              "    </tr>\n",
              "    <tr>\n",
              "      <th>1</th>\n",
              "      <td>4.9</td>\n",
              "      <td>3.0</td>\n",
              "      <td>1.4</td>\n",
              "      <td>0.2</td>\n",
              "      <td>setosa</td>\n",
              "    </tr>\n",
              "    <tr>\n",
              "      <th>2</th>\n",
              "      <td>4.7</td>\n",
              "      <td>3.2</td>\n",
              "      <td>1.3</td>\n",
              "      <td>0.2</td>\n",
              "      <td>setosa</td>\n",
              "    </tr>\n",
              "    <tr>\n",
              "      <th>3</th>\n",
              "      <td>4.6</td>\n",
              "      <td>3.1</td>\n",
              "      <td>1.5</td>\n",
              "      <td>0.2</td>\n",
              "      <td>setosa</td>\n",
              "    </tr>\n",
              "    <tr>\n",
              "      <th>4</th>\n",
              "      <td>5.0</td>\n",
              "      <td>3.6</td>\n",
              "      <td>1.4</td>\n",
              "      <td>0.2</td>\n",
              "      <td>setosa</td>\n",
              "    </tr>\n",
              "    <tr>\n",
              "      <th>...</th>\n",
              "      <td>...</td>\n",
              "      <td>...</td>\n",
              "      <td>...</td>\n",
              "      <td>...</td>\n",
              "      <td>...</td>\n",
              "    </tr>\n",
              "    <tr>\n",
              "      <th>145</th>\n",
              "      <td>6.7</td>\n",
              "      <td>3.0</td>\n",
              "      <td>5.2</td>\n",
              "      <td>2.3</td>\n",
              "      <td>virginica</td>\n",
              "    </tr>\n",
              "    <tr>\n",
              "      <th>146</th>\n",
              "      <td>6.3</td>\n",
              "      <td>2.5</td>\n",
              "      <td>5.0</td>\n",
              "      <td>1.9</td>\n",
              "      <td>virginica</td>\n",
              "    </tr>\n",
              "    <tr>\n",
              "      <th>147</th>\n",
              "      <td>6.5</td>\n",
              "      <td>3.0</td>\n",
              "      <td>5.2</td>\n",
              "      <td>2.0</td>\n",
              "      <td>virginica</td>\n",
              "    </tr>\n",
              "    <tr>\n",
              "      <th>148</th>\n",
              "      <td>6.2</td>\n",
              "      <td>3.4</td>\n",
              "      <td>5.4</td>\n",
              "      <td>2.3</td>\n",
              "      <td>virginica</td>\n",
              "    </tr>\n",
              "    <tr>\n",
              "      <th>149</th>\n",
              "      <td>5.9</td>\n",
              "      <td>3.0</td>\n",
              "      <td>5.1</td>\n",
              "      <td>1.8</td>\n",
              "      <td>virginica</td>\n",
              "    </tr>\n",
              "  </tbody>\n",
              "</table>\n",
              "<p>150 rows × 5 columns</p>\n",
              "</div>"
            ],
            "text/plain": [
              "     sepal_length  sepal_width  petal_length  petal_width    species\n",
              "0             5.1          3.5           1.4          0.2     setosa\n",
              "1             4.9          3.0           1.4          0.2     setosa\n",
              "2             4.7          3.2           1.3          0.2     setosa\n",
              "3             4.6          3.1           1.5          0.2     setosa\n",
              "4             5.0          3.6           1.4          0.2     setosa\n",
              "..            ...          ...           ...          ...        ...\n",
              "145           6.7          3.0           5.2          2.3  virginica\n",
              "146           6.3          2.5           5.0          1.9  virginica\n",
              "147           6.5          3.0           5.2          2.0  virginica\n",
              "148           6.2          3.4           5.4          2.3  virginica\n",
              "149           5.9          3.0           5.1          1.8  virginica\n",
              "\n",
              "[150 rows x 5 columns]"
            ]
          },
          "metadata": {},
          "execution_count": 9
        }
      ]
    },
    {
      "cell_type": "markdown",
      "metadata": {
        "id": "a0MgtLJq8QDj"
      },
      "source": [
        "Splitting the dataset into testing and training sets with the following parameters: **test_size=0.4**, **random_state=6**"
      ]
    },
    {
      "cell_type": "code",
      "metadata": {
        "colab": {
          "base_uri": "https://localhost:8080/",
          "height": 419
        },
        "id": "cyjL-oWdpLl1",
        "outputId": "6305ec3f-0c58-4306-8c72-532376e0462e"
      },
      "source": [
        "from sklearn.model_selection import train_test_split\n",
        "\n",
        "# set feature cols list\n",
        "feature_cols = ['sepal_length','sepal_width','petal_length','petal_width'] \n",
        "\n",
        "# assign X as iris (not including species label column)\n",
        "X = iris_df[feature_cols]\n",
        "\n",
        "# display modified feature matrix\n",
        "X\n"
      ],
      "execution_count": null,
      "outputs": [
        {
          "output_type": "execute_result",
          "data": {
            "text/html": [
              "<div>\n",
              "<style scoped>\n",
              "    .dataframe tbody tr th:only-of-type {\n",
              "        vertical-align: middle;\n",
              "    }\n",
              "\n",
              "    .dataframe tbody tr th {\n",
              "        vertical-align: top;\n",
              "    }\n",
              "\n",
              "    .dataframe thead th {\n",
              "        text-align: right;\n",
              "    }\n",
              "</style>\n",
              "<table border=\"1\" class=\"dataframe\">\n",
              "  <thead>\n",
              "    <tr style=\"text-align: right;\">\n",
              "      <th></th>\n",
              "      <th>sepal_length</th>\n",
              "      <th>sepal_width</th>\n",
              "      <th>petal_length</th>\n",
              "      <th>petal_width</th>\n",
              "    </tr>\n",
              "  </thead>\n",
              "  <tbody>\n",
              "    <tr>\n",
              "      <th>0</th>\n",
              "      <td>5.1</td>\n",
              "      <td>3.5</td>\n",
              "      <td>1.4</td>\n",
              "      <td>0.2</td>\n",
              "    </tr>\n",
              "    <tr>\n",
              "      <th>1</th>\n",
              "      <td>4.9</td>\n",
              "      <td>3.0</td>\n",
              "      <td>1.4</td>\n",
              "      <td>0.2</td>\n",
              "    </tr>\n",
              "    <tr>\n",
              "      <th>2</th>\n",
              "      <td>4.7</td>\n",
              "      <td>3.2</td>\n",
              "      <td>1.3</td>\n",
              "      <td>0.2</td>\n",
              "    </tr>\n",
              "    <tr>\n",
              "      <th>3</th>\n",
              "      <td>4.6</td>\n",
              "      <td>3.1</td>\n",
              "      <td>1.5</td>\n",
              "      <td>0.2</td>\n",
              "    </tr>\n",
              "    <tr>\n",
              "      <th>4</th>\n",
              "      <td>5.0</td>\n",
              "      <td>3.6</td>\n",
              "      <td>1.4</td>\n",
              "      <td>0.2</td>\n",
              "    </tr>\n",
              "    <tr>\n",
              "      <th>...</th>\n",
              "      <td>...</td>\n",
              "      <td>...</td>\n",
              "      <td>...</td>\n",
              "      <td>...</td>\n",
              "    </tr>\n",
              "    <tr>\n",
              "      <th>145</th>\n",
              "      <td>6.7</td>\n",
              "      <td>3.0</td>\n",
              "      <td>5.2</td>\n",
              "      <td>2.3</td>\n",
              "    </tr>\n",
              "    <tr>\n",
              "      <th>146</th>\n",
              "      <td>6.3</td>\n",
              "      <td>2.5</td>\n",
              "      <td>5.0</td>\n",
              "      <td>1.9</td>\n",
              "    </tr>\n",
              "    <tr>\n",
              "      <th>147</th>\n",
              "      <td>6.5</td>\n",
              "      <td>3.0</td>\n",
              "      <td>5.2</td>\n",
              "      <td>2.0</td>\n",
              "    </tr>\n",
              "    <tr>\n",
              "      <th>148</th>\n",
              "      <td>6.2</td>\n",
              "      <td>3.4</td>\n",
              "      <td>5.4</td>\n",
              "      <td>2.3</td>\n",
              "    </tr>\n",
              "    <tr>\n",
              "      <th>149</th>\n",
              "      <td>5.9</td>\n",
              "      <td>3.0</td>\n",
              "      <td>5.1</td>\n",
              "      <td>1.8</td>\n",
              "    </tr>\n",
              "  </tbody>\n",
              "</table>\n",
              "<p>150 rows × 4 columns</p>\n",
              "</div>"
            ],
            "text/plain": [
              "     sepal_length  sepal_width  petal_length  petal_width\n",
              "0             5.1          3.5           1.4          0.2\n",
              "1             4.9          3.0           1.4          0.2\n",
              "2             4.7          3.2           1.3          0.2\n",
              "3             4.6          3.1           1.5          0.2\n",
              "4             5.0          3.6           1.4          0.2\n",
              "..            ...          ...           ...          ...\n",
              "145           6.7          3.0           5.2          2.3\n",
              "146           6.3          2.5           5.0          1.9\n",
              "147           6.5          3.0           5.2          2.0\n",
              "148           6.2          3.4           5.4          2.3\n",
              "149           5.9          3.0           5.1          1.8\n",
              "\n",
              "[150 rows x 4 columns]"
            ]
          },
          "metadata": {},
          "execution_count": 21
        }
      ]
    },
    {
      "cell_type": "code",
      "metadata": {
        "colab": {
          "base_uri": "https://localhost:8080/"
        },
        "id": "SF10BHKEQ9Rh",
        "outputId": "e0a74c9f-ee0a-4a4c-873a-9b3466d3c57d"
      },
      "source": [
        "# print size/dimensions of Feature Matrix X\n",
        "print(X.shape)"
      ],
      "execution_count": null,
      "outputs": [
        {
          "output_type": "stream",
          "name": "stdout",
          "text": [
            "(150, 4)\n"
          ]
        }
      ]
    },
    {
      "cell_type": "code",
      "metadata": {
        "colab": {
          "base_uri": "https://localhost:8080/"
        },
        "id": "NwF8i4rPTN-E",
        "outputId": "21674413-036f-4ea1-9477-db03eb29d132"
      },
      "source": [
        "# label column values\n",
        "y = iris_df['species']\n",
        "y\n"
      ],
      "execution_count": null,
      "outputs": [
        {
          "output_type": "execute_result",
          "data": {
            "text/plain": [
              "0         setosa\n",
              "1         setosa\n",
              "2         setosa\n",
              "3         setosa\n",
              "4         setosa\n",
              "         ...    \n",
              "145    virginica\n",
              "146    virginica\n",
              "147    virginica\n",
              "148    virginica\n",
              "149    virginica\n",
              "Name: species, Length: 150, dtype: object"
            ]
          },
          "metadata": {},
          "execution_count": 24
        }
      ]
    },
    {
      "cell_type": "code",
      "metadata": {
        "colab": {
          "base_uri": "https://localhost:8080/"
        },
        "id": "fgkJc2oVUQDx",
        "outputId": "502b8b92-4d22-4257-9d37-7c0f8c582ea4"
      },
      "source": [
        "print(y.shape)"
      ],
      "execution_count": null,
      "outputs": [
        {
          "output_type": "stream",
          "name": "stdout",
          "text": [
            "(150,)\n"
          ]
        }
      ]
    },
    {
      "cell_type": "code",
      "metadata": {
        "id": "NbL0a3aFUlpt"
      },
      "source": [
        "# Randomly splitting the original dataset into training set and testing set\n",
        "# test_size = 0.4, random_state=6\n",
        "\n",
        "from sklearn.model_selection import train_test_split\n",
        "\n",
        "X_train, X_test, y_train, y_test = train_test_split(X, y, test_size=0.4, random_state=6)"
      ],
      "execution_count": null,
      "outputs": []
    },
    {
      "cell_type": "code",
      "metadata": {
        "colab": {
          "base_uri": "https://localhost:8080/"
        },
        "id": "l9N7_JUcSw9L",
        "outputId": "4a9d7f51-f356-42be-8274-dea79f579a00"
      },
      "source": [
        "# print size of training set\n",
        "print(X_train.shape)\n",
        "print(y_train.shape)"
      ],
      "execution_count": null,
      "outputs": [
        {
          "output_type": "stream",
          "name": "stdout",
          "text": [
            "(90, 4)\n",
            "(90,)\n"
          ]
        }
      ]
    },
    {
      "cell_type": "code",
      "metadata": {
        "colab": {
          "base_uri": "https://localhost:8080/"
        },
        "id": "9bFBb5FhWZWO",
        "outputId": "76f1ab81-7964-4196-97b2-c8d6ac5cbcb4"
      },
      "source": [
        "# print size of testing set\n",
        "print(X_test.shape)\n",
        "print(y_test.shape)"
      ],
      "execution_count": null,
      "outputs": [
        {
          "output_type": "stream",
          "name": "stdout",
          "text": [
            "(60, 4)\n",
            "(60,)\n"
          ]
        }
      ]
    },
    {
      "cell_type": "code",
      "metadata": {
        "colab": {
          "base_uri": "https://localhost:8080/"
        },
        "id": "V9y3ClmgXenk",
        "outputId": "c5b0f253-573a-47e0-cac8-30e41193d46b"
      },
      "source": [
        "print('\\t\\t\\t***X_train***\\n')\n",
        "print(X_train)\n",
        "print('\\n\\t***y_train***\\n')\n",
        "print(y_train)"
      ],
      "execution_count": null,
      "outputs": [
        {
          "output_type": "stream",
          "name": "stdout",
          "text": [
            "\t\t\t***X_train***\n",
            "\n",
            "     sepal_length  sepal_width  petal_length  petal_width\n",
            "83            6.0          2.7           5.1          1.6\n",
            "60            5.0          2.0           3.5          1.0\n",
            "99            5.7          2.8           4.1          1.3\n",
            "100           6.3          3.3           6.0          2.5\n",
            "94            5.6          2.7           4.2          1.3\n",
            "..            ...          ...           ...          ...\n",
            "148           6.2          3.4           5.4          2.3\n",
            "79            5.7          2.6           3.5          1.0\n",
            "109           7.2          3.6           6.1          2.5\n",
            "106           4.9          2.5           4.5          1.7\n",
            "138           6.0          3.0           4.8          1.8\n",
            "\n",
            "[90 rows x 4 columns]\n",
            "\n",
            "\t***y_train***\n",
            "\n",
            "83     versicolor\n",
            "60     versicolor\n",
            "99     versicolor\n",
            "100     virginica\n",
            "94     versicolor\n",
            "          ...    \n",
            "148     virginica\n",
            "79     versicolor\n",
            "109     virginica\n",
            "106     virginica\n",
            "138     virginica\n",
            "Name: species, Length: 90, dtype: object\n"
          ]
        }
      ]
    },
    {
      "cell_type": "code",
      "metadata": {
        "colab": {
          "base_uri": "https://localhost:8080/"
        },
        "id": "1E2hXnqyWpnH",
        "outputId": "f94609ec-d62f-4438-da28-18be64dc1bca"
      },
      "source": [
        "print('\\t\\t\\t***X_test***\\n')\n",
        "print(X_test)\n",
        "print('\\n\\t***y_test***\\n')\n",
        "print(y_test)"
      ],
      "execution_count": null,
      "outputs": [
        {
          "output_type": "stream",
          "name": "stdout",
          "text": [
            "\t\t\t***X_test***\n",
            "\n",
            "     sepal_length  sepal_width  petal_length  petal_width\n",
            "4             5.0          3.6           1.4          0.2\n",
            "116           6.5          3.0           5.5          1.8\n",
            "2             4.7          3.2           1.3          0.2\n",
            "23            5.1          3.3           1.7          0.5\n",
            "123           6.3          2.7           4.9          1.8\n",
            "96            5.7          2.9           4.2          1.3\n",
            "134           6.1          2.6           5.6          1.4\n",
            "39            5.1          3.4           1.5          0.2\n",
            "137           6.4          3.1           5.5          1.8\n",
            "53            5.5          2.3           4.0          1.3\n",
            "127           6.1          3.0           4.9          1.8\n",
            "81            5.5          2.4           3.7          1.0\n",
            "115           6.4          3.2           5.3          2.3\n",
            "135           7.7          3.0           6.1          2.3\n",
            "74            6.4          2.9           4.3          1.3\n",
            "119           6.0          2.2           5.0          1.5\n",
            "105           7.6          3.0           6.6          2.1\n",
            "51            6.4          3.2           4.5          1.5\n",
            "92            5.8          2.6           4.0          1.2\n",
            "32            5.2          4.1           1.5          0.1\n",
            "37            4.9          3.1           1.5          0.1\n",
            "120           6.9          3.2           5.7          2.3\n",
            "44            5.1          3.8           1.9          0.4\n",
            "0             5.1          3.5           1.4          0.2\n",
            "55            5.7          2.8           4.5          1.3\n",
            "72            6.3          2.5           4.9          1.5\n",
            "87            6.3          2.3           4.4          1.3\n",
            "102           7.1          3.0           5.9          2.1\n",
            "30            4.8          3.1           1.6          0.2\n",
            "93            5.0          2.3           3.3          1.0\n",
            "45            4.8          3.0           1.4          0.3\n",
            "59            5.2          2.7           3.9          1.4\n",
            "16            5.4          3.9           1.3          0.4\n",
            "13            4.3          3.0           1.1          0.1\n",
            "133           6.3          2.8           5.1          1.5\n",
            "128           6.4          2.8           5.6          2.1\n",
            "64            5.6          2.9           3.6          1.3\n",
            "146           6.3          2.5           5.0          1.9\n",
            "95            5.7          3.0           4.2          1.2\n",
            "49            5.0          3.3           1.4          0.2\n",
            "17            5.1          3.5           1.4          0.3\n",
            "103           6.3          2.9           5.6          1.8\n",
            "71            6.1          2.8           4.0          1.3\n",
            "61            5.9          3.0           4.2          1.5\n",
            "46            5.1          3.8           1.6          0.2\n",
            "12            4.8          3.0           1.4          0.1\n",
            "52            6.9          3.1           4.9          1.5\n",
            "27            5.2          3.5           1.5          0.2\n",
            "34            4.9          3.1           1.5          0.1\n",
            "54            6.5          2.8           4.6          1.5\n",
            "118           7.7          2.6           6.9          2.3\n",
            "117           7.7          3.8           6.7          2.2\n",
            "121           5.6          2.8           4.9          2.0\n",
            "6             4.6          3.4           1.4          0.3\n",
            "111           6.4          2.7           5.3          1.9\n",
            "18            5.7          3.8           1.7          0.3\n",
            "38            4.4          3.0           1.3          0.2\n",
            "20            5.4          3.4           1.7          0.2\n",
            "58            6.6          2.9           4.6          1.3\n",
            "108           6.7          2.5           5.8          1.8\n",
            "\n",
            "\t***y_test***\n",
            "\n",
            "4          setosa\n",
            "116     virginica\n",
            "2          setosa\n",
            "23         setosa\n",
            "123     virginica\n",
            "96     versicolor\n",
            "134     virginica\n",
            "39         setosa\n",
            "137     virginica\n",
            "53     versicolor\n",
            "127     virginica\n",
            "81     versicolor\n",
            "115     virginica\n",
            "135     virginica\n",
            "74     versicolor\n",
            "119     virginica\n",
            "105     virginica\n",
            "51     versicolor\n",
            "92     versicolor\n",
            "32         setosa\n",
            "37         setosa\n",
            "120     virginica\n",
            "44         setosa\n",
            "0          setosa\n",
            "55     versicolor\n",
            "72     versicolor\n",
            "87     versicolor\n",
            "102     virginica\n",
            "30         setosa\n",
            "93     versicolor\n",
            "45         setosa\n",
            "59     versicolor\n",
            "16         setosa\n",
            "13         setosa\n",
            "133     virginica\n",
            "128     virginica\n",
            "64     versicolor\n",
            "146     virginica\n",
            "95     versicolor\n",
            "49         setosa\n",
            "17         setosa\n",
            "103     virginica\n",
            "71     versicolor\n",
            "61     versicolor\n",
            "46         setosa\n",
            "12         setosa\n",
            "52     versicolor\n",
            "27         setosa\n",
            "34         setosa\n",
            "54     versicolor\n",
            "118     virginica\n",
            "117     virginica\n",
            "121     virginica\n",
            "6          setosa\n",
            "111     virginica\n",
            "18         setosa\n",
            "38         setosa\n",
            "20         setosa\n",
            "58     versicolor\n",
            "108     virginica\n",
            "Name: species, dtype: object\n"
          ]
        }
      ]
    },
    {
      "cell_type": "markdown",
      "metadata": {
        "id": "w1DjLpE0XvLN"
      },
      "source": [
        "Creating an instance of KNN object with K=3, training it with the training set and testing it on the testing set. Then, calculating the accuracy of prediction made.\n"
      ]
    },
    {
      "cell_type": "code",
      "metadata": {
        "id": "SNtRCXF6X0fK"
      },
      "source": [
        "# Instantiating another \"object\" of KNeighborsClassifier \"class\" with k=3:\n",
        "\n",
        "k = 3\n",
        "knn_3 = KNeighborsClassifier(n_neighbors=k)"
      ],
      "execution_count": null,
      "outputs": []
    },
    {
      "cell_type": "code",
      "metadata": {
        "colab": {
          "base_uri": "https://localhost:8080/"
        },
        "id": "MeefGBFFYU4S",
        "outputId": "02970ee3-5823-456b-a6c5-1faf618bad43"
      },
      "source": [
        "# \"fit\" method  of the object along with training dataset and labels to train the model.\n",
        "\n",
        "knn_3.fit(X_train, y_train)"
      ],
      "execution_count": null,
      "outputs": [
        {
          "output_type": "execute_result",
          "data": {
            "text/plain": [
              "KNeighborsClassifier(algorithm='auto', leaf_size=30, metric='minkowski',\n",
              "                     metric_params=None, n_jobs=None, n_neighbors=3, p=2,\n",
              "                     weights='uniform')"
            ]
          },
          "metadata": {},
          "execution_count": 42
        }
      ]
    },
    {
      "cell_type": "code",
      "metadata": {
        "colab": {
          "base_uri": "https://localhost:8080/"
        },
        "id": "A25mHWWxYzpe",
        "outputId": "5071c185-642c-4467-86d8-e7ce682ba7aa"
      },
      "source": [
        "# Using \"predict\" method of the *trained* object knn on testing set\n",
        "\n",
        "y_predict_knn_3 = knn_3.predict(X_test) # generate predictions for testing set\n",
        "\n",
        "print(y_predict_knn_3) # print predictions for testing set"
      ],
      "execution_count": null,
      "outputs": [
        {
          "output_type": "stream",
          "name": "stdout",
          "text": [
            "['setosa' 'virginica' 'setosa' 'setosa' 'virginica' 'versicolor'\n",
            " 'virginica' 'setosa' 'virginica' 'versicolor' 'virginica' 'versicolor'\n",
            " 'virginica' 'virginica' 'versicolor' 'versicolor' 'virginica'\n",
            " 'versicolor' 'versicolor' 'setosa' 'setosa' 'virginica' 'setosa' 'setosa'\n",
            " 'versicolor' 'versicolor' 'versicolor' 'virginica' 'setosa' 'versicolor'\n",
            " 'setosa' 'versicolor' 'setosa' 'setosa' 'versicolor' 'virginica'\n",
            " 'versicolor' 'virginica' 'versicolor' 'setosa' 'setosa' 'virginica'\n",
            " 'versicolor' 'versicolor' 'setosa' 'setosa' 'versicolor' 'setosa'\n",
            " 'setosa' 'versicolor' 'virginica' 'virginica' 'virginica' 'setosa'\n",
            " 'virginica' 'setosa' 'setosa' 'setosa' 'versicolor' 'virginica']\n"
          ]
        }
      ]
    },
    {
      "cell_type": "code",
      "metadata": {
        "colab": {
          "base_uri": "https://localhost:8080/"
        },
        "id": "YdmnqTPgbFaW",
        "outputId": "c912d236-f4d3-42c6-ecd0-62b025983f9c"
      },
      "source": [
        "# Evaluating accuracy of predictions by comparing the \"predicted labels\" for the Testing Set with its \"actual labels\"\n",
        "\n",
        "from sklearn.metrics import accuracy_score\n",
        "\n",
        "accuracy = accuracy_score(y_test, y_predict_knn_3)\n",
        "\n",
        "print(accuracy)"
      ],
      "execution_count": null,
      "outputs": [
        {
          "output_type": "stream",
          "name": "stdout",
          "text": [
            "0.9666666666666667\n"
          ]
        }
      ]
    },
    {
      "cell_type": "code",
      "metadata": {
        "colab": {
          "base_uri": "https://localhost:8080/"
        },
        "id": "jyzBg8TOcbcD",
        "outputId": "f6e9b841-afb5-44c4-9648-944af2af1c58"
      },
      "source": [
        "# Above code condensed as a method\n",
        "# Returning accuracy of predictions for selected knn value\n",
        "\n",
        "def accuracy_of_knn(k, X_training, y_training, X_testing, y_testing):\n",
        "\n",
        "      # Create Instance of KNeighborsClassifier with parameter value of k\n",
        "      selected_k = k \n",
        "      selected_knn = KNeighborsClassifier(n_neighbors=selected_k)\n",
        "      \n",
        "      # Train model with \"fit\" method along with training dataset and labels .\n",
        "      selected_knn.fit(X_training, y_training)\n",
        "\n",
        "      # Use \"predict\" method of the *trained* object selected_knn on testing set\n",
        "      # Set 'y_prediction' to generated predictions for testing set\n",
        "      y_predictions = selected_knn.predict(X_testing)\n",
        "\n",
        "      # return overall accuracy of predicted labels vs actual values\n",
        "      return accuracy_score(y_testing, y_predictions)\n",
        "\n",
        "# Testing that same result received for knn 3\n",
        "accuracy_of_knn(3, X_train, y_train, X_test, y_test)\n",
        "\n"
      ],
      "execution_count": null,
      "outputs": [
        {
          "output_type": "execute_result",
          "data": {
            "text/plain": [
              "0.9666666666666667"
            ]
          },
          "metadata": {},
          "execution_count": 47
        }
      ]
    },
    {
      "cell_type": "markdown",
      "metadata": {
        "id": "Scj5LJQJjF4u"
      },
      "source": [
        "Repeating previous step with K=1, K=5, K=7, K=11, K=15, K=27, K=59. Evaluating if the accuracy always improves by increasing the value K."
      ]
    },
    {
      "cell_type": "markdown",
      "metadata": {
        "id": "0agYylozlNJQ"
      },
      "source": [
        "**Observation**: Accuracy does not always improve by increasing the value of K. From the results it can be observed that the accuracy stedily increase starting from 1 to ending at 5. For values of K between 5 to 59, the accuracy value appears to decrease. Within the tested values of K, 5 resulted in the best accuracy while 59 resulted in the worst accuracy."
      ]
    },
    {
      "cell_type": "code",
      "metadata": {
        "colab": {
          "base_uri": "https://localhost:8080/"
        },
        "id": "IXprU_3IjKaR",
        "outputId": "13711131-2e23-4866-b044-2a5e5d2a1af1"
      },
      "source": [
        "# values of K to test\n",
        "k_test = [1, 3, 5, 7, 11, 15, 27, 59]\n",
        "\n",
        "results = {}\n",
        "\n",
        "for k in k_test:\n",
        "        results[k] = accuracy_of_knn(k, X_train, y_train, X_test, y_test)\n",
        "\n",
        "for key, value in results.items():\n",
        "        print(f'For K={key}, accuracy is: {value}\\n')"
      ],
      "execution_count": null,
      "outputs": [
        {
          "output_type": "stream",
          "name": "stdout",
          "text": [
            "For K=1, accuracy is: 0.95\n",
            "\n",
            "For K=3, accuracy is: 0.9666666666666667\n",
            "\n",
            "For K=5, accuracy is: 0.9833333333333333\n",
            "\n",
            "For K=7, accuracy is: 0.9666666666666667\n",
            "\n",
            "For K=11, accuracy is: 0.9666666666666667\n",
            "\n",
            "For K=15, accuracy is: 0.9333333333333333\n",
            "\n",
            "For K=27, accuracy is: 0.9166666666666666\n",
            "\n",
            "For K=59, accuracy is: 0.8166666666666667\n",
            "\n"
          ]
        }
      ]
    },
    {
      "cell_type": "markdown",
      "metadata": {
        "id": "l-fu2IiYxBxz"
      },
      "source": [
        "Experimenting making predictions based on only **ONE single feature**, to find the best single feature. Repeating previous experiment with K=3, four times (each time using only one of the 4 features), and computing the accuracy of each time and checking the accuracies. </br>Objective is to find which individual feature provide the best accuracy (or is the best feature) and which is the second best feature."
      ]
    },
    {
      "cell_type": "markdown",
      "metadata": {
        "id": "gFFGtsUQRAgt"
      },
      "source": [
        "**Observation:** From the results obtained below it appears that 'petal_width' provides the best accuracy as an isolated feature with 0.95 accuracy, making it the the best feature. The second best feature would be 'petal_length', having the second highest accuracy of 0.93."
      ]
    },
    {
      "cell_type": "code",
      "metadata": {
        "id": "VA8h37g-BOrH"
      },
      "source": [
        "# assign x1, x2, x3, x4 unique to each feature column of iris (not including species label column)\n",
        "# ***input classifiers are expected to be 2D arrays***\n",
        "# must reference as: iris_df[[feature_cols[column_index]]]\n",
        "\n",
        "x1 = iris_df[[feature_cols[0]]]\n",
        "x2 = iris_df[[feature_cols[1]]]\n",
        "x3 = iris_df[[feature_cols[2]]]\n",
        "x4 = iris_df[[feature_cols[3]]]\n",
        "\n",
        "feature_list = [x1,x2, x3, x4]"
      ],
      "execution_count": null,
      "outputs": []
    },
    {
      "cell_type": "code",
      "metadata": {
        "id": "T9VBy1GqCatY"
      },
      "source": [
        "# method to train models dynamically for each new isolated feature matrix\n",
        "def find_feature_accuracy(x_col, k):\n",
        "        X_train, X_test, y_train, y_test = train_test_split(x_col, y, test_size=0.4, random_state=6)\n",
        "        return accuracy_of_knn(k, X_train, y_train, X_test, y_test)"
      ],
      "execution_count": null,
      "outputs": []
    },
    {
      "cell_type": "code",
      "metadata": {
        "colab": {
          "base_uri": "https://localhost:8080/"
        },
        "id": "HneOOMqaEaTt",
        "outputId": "df53006f-0bcf-43d9-c997-c9d813d88f6d"
      },
      "source": [
        "# dictionary to map name of feature to accuracy of feature column data\n",
        "feature_results = {}\n",
        "\n",
        "for i in range(0,4):\n",
        "        feature_results[feature_cols[i]] = find_feature_accuracy(feature_list[i], 3)\n",
        "\n",
        "for key, value in feature_results.items():\n",
        "        print(f'For feature \\'{key}\\', accuracy is: {value}\\n')"
      ],
      "execution_count": null,
      "outputs": [
        {
          "output_type": "stream",
          "name": "stdout",
          "text": [
            "For feature 'sepal_length', accuracy is: 0.7166666666666667\n",
            "\n",
            "For feature 'sepal_width', accuracy is: 0.5666666666666667\n",
            "\n",
            "For feature 'petal_length', accuracy is: 0.9333333333333333\n",
            "\n",
            "For feature 'petal_width', accuracy is: 0.95\n",
            "\n"
          ]
        }
      ]
    },
    {
      "cell_type": "markdown",
      "metadata": {
        "id": "pkrPyT77SxB0"
      },
      "source": [
        "Now, I will be repeating the previous experiment, this time using two features. I will need to train, test, and evaluate my model for 6 different cases: using (1st and 2nd features), (1st and 3rd features), (1st and 4th  features), (2nd  and 3rd  features), (2nd and 4th features), (3rd and 4th  features).</br></br>Objective is to find which “feature pair” provides the best accuracy."
      ]
    },
    {
      "cell_type": "markdown",
      "metadata": {
        "id": "Pb4Qkc68kqc3"
      },
      "source": [
        "**Observation:** The feature pair providing the most accuracy is 'sepal_length' and 'petal_length', at 0.983 accuracy."
      ]
    },
    {
      "cell_type": "code",
      "metadata": {
        "id": "xhJHrVsOTJag"
      },
      "source": [
        "# create pair list for indexing each unique pair of feature labels\n",
        "pair_indexes = []\n",
        "for i in range(0,3):\n",
        "    for j in range(i+1,4):\n",
        "        pair_indexes.append([i, j])"
      ],
      "execution_count": null,
      "outputs": []
    },
    {
      "cell_type": "code",
      "metadata": {
        "id": "79yJG7z7cxL_"
      },
      "source": [
        "# method to train models dynamically for each new feature pair matrix\n",
        "def find_feature_pair_accuracy(index1, index2, k):\n",
        "        feature_pair = iris_df[[feature_cols[index1], feature_cols[index2]]]\n",
        "        X_train, X_test, y_train, y_test = train_test_split(feature_pair, y, test_size=0.4, random_state=6)\n",
        "        return accuracy_of_knn(k, X_train, y_train, X_test, y_test)"
      ],
      "execution_count": null,
      "outputs": []
    },
    {
      "cell_type": "code",
      "metadata": {
        "id": "h2wxtLWObuXt"
      },
      "source": [
        "# pass pairs of features to feature pair accuracy method\n",
        "accuracy_by_pair = lambda f1,f2, k: find_feature_pair_accuracy(f1, f2, k)"
      ],
      "execution_count": null,
      "outputs": []
    },
    {
      "cell_type": "code",
      "metadata": {
        "colab": {
          "base_uri": "https://localhost:8080/"
        },
        "id": "L-sgCEEGe0Dt",
        "outputId": "a79f4631-7674-4e36-9a7f-887fd7f6b698"
      },
      "source": [
        "# dictionary to map name of features to accuracy of feature columns data combination\n",
        "feature_pair_results = []\n",
        "\n",
        "for i in range(0,len(pair_indexes)):\n",
        "        feature_pair_results.append([])\n",
        "        feature_pair_results[i].append(feature_cols[pair_indexes[i][0]])\n",
        "        feature_pair_results[i].append(feature_cols[pair_indexes[i][1]])\n",
        "        feature_pair_results[i].append(find_feature_pair_accuracy(pair_indexes[i][0], pair_indexes[i][1], 3))\n",
        "\n",
        "for data in feature_pair_results:\n",
        "        print(f'For feature pair \\'{data[0]}\\' and \\'{data[1]}\\', accuracy is: {data[2]}\\n')"
      ],
      "execution_count": null,
      "outputs": [
        {
          "output_type": "stream",
          "name": "stdout",
          "text": [
            "For feature pair 'sepal_length' and 'sepal_width', accuracy is: 0.8166666666666667\n",
            "\n",
            "For feature pair 'sepal_length' and 'petal_length', accuracy is: 0.9833333333333333\n",
            "\n",
            "For feature pair 'sepal_length' and 'petal_width', accuracy is: 0.95\n",
            "\n",
            "For feature pair 'sepal_width' and 'petal_length', accuracy is: 0.95\n",
            "\n",
            "For feature pair 'sepal_width' and 'petal_width', accuracy is: 0.95\n",
            "\n",
            "For feature pair 'petal_length' and 'petal_width', accuracy is: 0.9666666666666667\n",
            "\n"
          ]
        }
      ]
    },
    {
      "cell_type": "markdown",
      "metadata": {
        "id": "uNWQQrUkmUvL"
      },
      "source": [
        "## Big Question: Does the “best feature pair” contain both “first best individual feature” and “second best individual feature”? Can it be concluded, that the “best two features” for classification are the first best feature along with the second best feature together?\n",
        "\n",
        "---\n",
        "**Final Observations:**</br>The results previously obtained showed 'petal_width' and 'petal_length' independently to be the best two features. On the other hand, the combination of features showing to be most accurate were 'sepal_length' and 'petal_length' and their combination was more accurate than both best individual features independently. Although  **'petal_width'** and **'petal_length'** were the best two features independently, they were not the same features pair that gave the best accuracy which were **'sepal_length'** and **'petal_length'**. Therefore, we cannot conclude that features with the best accuracy independently will also yield the best accuracy together as a pair."
      ]
    }
  ]
}