{
 "cells": [
  {
   "cell_type": "markdown",
   "metadata": {
    "id": "pRjPS0kTUofO"
   },
   "source": [
    "# CS4661 - Homework 3\n",
    "\n",
    "Jaquan Jones"
   ]
  },
  {
   "cell_type": "markdown",
   "metadata": {
    "id": "6b1PmRm6UwWE"
   },
   "source": [
    "## Question2: Debt Prediction\n",
    "\n",
    "### A. Read the dataset file “Credit.csv” (from github using the following command), and assign it to a Pandas DataFrame"
   ]
  },
  {
   "cell_type": "code",
   "execution_count": 29,
   "metadata": {
    "id": "EHFVgzK3UmO-"
   },
   "outputs": [],
   "source": [
    "# library imports\n",
    "import numpy as np\n",
    "import pandas as pd\n",
    "from sklearn.linear_model import LinearRegression\n",
    "from sklearn.metrics import mean_squared_error\n",
    "from sklearn.model_selection import cross_val_score, train_test_split\n",
    "from sklearn.preprocessing import scale"
   ]
  },
  {
   "cell_type": "code",
   "execution_count": 30,
   "metadata": {
    "colab": {
     "base_uri": "https://localhost:8080/",
     "height": 419
    },
    "id": "1C2CBj29VaYK",
    "outputId": "cf1f92c8-ab0e-4a5e-d424-2943dbc29d89"
   },
   "outputs": [
    {
     "data": {
      "text/html": [
       "<div>\n",
       "<style scoped>\n",
       "    .dataframe tbody tr th:only-of-type {\n",
       "        vertical-align: middle;\n",
       "    }\n",
       "\n",
       "    .dataframe tbody tr th {\n",
       "        vertical-align: top;\n",
       "    }\n",
       "\n",
       "    .dataframe thead th {\n",
       "        text-align: right;\n",
       "    }\n",
       "</style>\n",
       "<table border=\"1\" class=\"dataframe\">\n",
       "  <thead>\n",
       "    <tr style=\"text-align: right;\">\n",
       "      <th></th>\n",
       "      <th>Income</th>\n",
       "      <th>Limit</th>\n",
       "      <th>Rating</th>\n",
       "      <th>Cards</th>\n",
       "      <th>Age</th>\n",
       "      <th>Education</th>\n",
       "      <th>Married</th>\n",
       "      <th>Balance</th>\n",
       "    </tr>\n",
       "  </thead>\n",
       "  <tbody>\n",
       "    <tr>\n",
       "      <th>0</th>\n",
       "      <td>14.891</td>\n",
       "      <td>3606</td>\n",
       "      <td>283</td>\n",
       "      <td>2</td>\n",
       "      <td>34</td>\n",
       "      <td>11</td>\n",
       "      <td>1</td>\n",
       "      <td>333</td>\n",
       "    </tr>\n",
       "    <tr>\n",
       "      <th>1</th>\n",
       "      <td>106.025</td>\n",
       "      <td>6645</td>\n",
       "      <td>483</td>\n",
       "      <td>3</td>\n",
       "      <td>82</td>\n",
       "      <td>15</td>\n",
       "      <td>1</td>\n",
       "      <td>903</td>\n",
       "    </tr>\n",
       "    <tr>\n",
       "      <th>2</th>\n",
       "      <td>104.593</td>\n",
       "      <td>7075</td>\n",
       "      <td>514</td>\n",
       "      <td>4</td>\n",
       "      <td>71</td>\n",
       "      <td>11</td>\n",
       "      <td>0</td>\n",
       "      <td>580</td>\n",
       "    </tr>\n",
       "    <tr>\n",
       "      <th>3</th>\n",
       "      <td>148.924</td>\n",
       "      <td>9504</td>\n",
       "      <td>681</td>\n",
       "      <td>3</td>\n",
       "      <td>36</td>\n",
       "      <td>11</td>\n",
       "      <td>0</td>\n",
       "      <td>964</td>\n",
       "    </tr>\n",
       "    <tr>\n",
       "      <th>4</th>\n",
       "      <td>55.882</td>\n",
       "      <td>4897</td>\n",
       "      <td>357</td>\n",
       "      <td>2</td>\n",
       "      <td>68</td>\n",
       "      <td>16</td>\n",
       "      <td>1</td>\n",
       "      <td>331</td>\n",
       "    </tr>\n",
       "    <tr>\n",
       "      <th>...</th>\n",
       "      <td>...</td>\n",
       "      <td>...</td>\n",
       "      <td>...</td>\n",
       "      <td>...</td>\n",
       "      <td>...</td>\n",
       "      <td>...</td>\n",
       "      <td>...</td>\n",
       "      <td>...</td>\n",
       "    </tr>\n",
       "    <tr>\n",
       "      <th>395</th>\n",
       "      <td>12.096</td>\n",
       "      <td>4100</td>\n",
       "      <td>307</td>\n",
       "      <td>3</td>\n",
       "      <td>32</td>\n",
       "      <td>13</td>\n",
       "      <td>1</td>\n",
       "      <td>560</td>\n",
       "    </tr>\n",
       "    <tr>\n",
       "      <th>396</th>\n",
       "      <td>13.364</td>\n",
       "      <td>3838</td>\n",
       "      <td>296</td>\n",
       "      <td>5</td>\n",
       "      <td>65</td>\n",
       "      <td>17</td>\n",
       "      <td>0</td>\n",
       "      <td>480</td>\n",
       "    </tr>\n",
       "    <tr>\n",
       "      <th>397</th>\n",
       "      <td>57.872</td>\n",
       "      <td>4171</td>\n",
       "      <td>321</td>\n",
       "      <td>5</td>\n",
       "      <td>67</td>\n",
       "      <td>12</td>\n",
       "      <td>1</td>\n",
       "      <td>138</td>\n",
       "    </tr>\n",
       "    <tr>\n",
       "      <th>398</th>\n",
       "      <td>37.728</td>\n",
       "      <td>2525</td>\n",
       "      <td>192</td>\n",
       "      <td>1</td>\n",
       "      <td>44</td>\n",
       "      <td>13</td>\n",
       "      <td>1</td>\n",
       "      <td>0</td>\n",
       "    </tr>\n",
       "    <tr>\n",
       "      <th>399</th>\n",
       "      <td>18.701</td>\n",
       "      <td>5524</td>\n",
       "      <td>415</td>\n",
       "      <td>5</td>\n",
       "      <td>64</td>\n",
       "      <td>7</td>\n",
       "      <td>0</td>\n",
       "      <td>966</td>\n",
       "    </tr>\n",
       "  </tbody>\n",
       "</table>\n",
       "<p>400 rows × 8 columns</p>\n",
       "</div>"
      ],
      "text/plain": [
       "      Income  Limit  Rating  Cards  Age  Education  Married  Balance\n",
       "0     14.891   3606     283      2   34         11        1      333\n",
       "1    106.025   6645     483      3   82         15        1      903\n",
       "2    104.593   7075     514      4   71         11        0      580\n",
       "3    148.924   9504     681      3   36         11        0      964\n",
       "4     55.882   4897     357      2   68         16        1      331\n",
       "..       ...    ...     ...    ...  ...        ...      ...      ...\n",
       "395   12.096   4100     307      3   32         13        1      560\n",
       "396   13.364   3838     296      5   65         17        0      480\n",
       "397   57.872   4171     321      5   67         12        1      138\n",
       "398   37.728   2525     192      1   44         13        1        0\n",
       "399   18.701   5524     415      5   64          7        0      966\n",
       "\n",
       "[400 rows x 8 columns]"
      ]
     },
     "execution_count": 30,
     "metadata": {},
     "output_type": "execute_result"
    }
   ],
   "source": [
    "df = pd.read_csv(\"https://github.com/mpourhoma/CS4661/raw/master/Credit.csv\")\n",
    "\n",
    "df"
   ]
  },
  {
   "cell_type": "markdown",
   "metadata": {
    "id": "mFT_GswvVh0l"
   },
   "source": [
    "### B. Check out the dataset. The “Credit” dataset includes the “balance” column (average credit card debt for a number of individuals) as target, as well as several features: age, cards (number of credit cards), education (years of education), income (in thousands of dollars), limit (credit limit), marital status, and rating (credit rating)."
   ]
  },
  {
   "cell_type": "code",
   "execution_count": 31,
   "metadata": {
    "colab": {
     "base_uri": "https://localhost:8080/",
     "height": 419
    },
    "id": "Bfs9zpsrWH_p",
    "outputId": "44deecf6-66e7-4bdc-80c7-c8fbff3af963"
   },
   "outputs": [
    {
     "data": {
      "text/html": [
       "<div>\n",
       "<style scoped>\n",
       "    .dataframe tbody tr th:only-of-type {\n",
       "        vertical-align: middle;\n",
       "    }\n",
       "\n",
       "    .dataframe tbody tr th {\n",
       "        vertical-align: top;\n",
       "    }\n",
       "\n",
       "    .dataframe thead th {\n",
       "        text-align: right;\n",
       "    }\n",
       "</style>\n",
       "<table border=\"1\" class=\"dataframe\">\n",
       "  <thead>\n",
       "    <tr style=\"text-align: right;\">\n",
       "      <th></th>\n",
       "      <th>Income</th>\n",
       "      <th>Limit</th>\n",
       "      <th>Rating</th>\n",
       "      <th>Cards</th>\n",
       "      <th>Age</th>\n",
       "      <th>Education</th>\n",
       "      <th>Married</th>\n",
       "    </tr>\n",
       "  </thead>\n",
       "  <tbody>\n",
       "    <tr>\n",
       "      <th>0</th>\n",
       "      <td>14.891</td>\n",
       "      <td>3606</td>\n",
       "      <td>283</td>\n",
       "      <td>2</td>\n",
       "      <td>34</td>\n",
       "      <td>11</td>\n",
       "      <td>1</td>\n",
       "    </tr>\n",
       "    <tr>\n",
       "      <th>1</th>\n",
       "      <td>106.025</td>\n",
       "      <td>6645</td>\n",
       "      <td>483</td>\n",
       "      <td>3</td>\n",
       "      <td>82</td>\n",
       "      <td>15</td>\n",
       "      <td>1</td>\n",
       "    </tr>\n",
       "    <tr>\n",
       "      <th>2</th>\n",
       "      <td>104.593</td>\n",
       "      <td>7075</td>\n",
       "      <td>514</td>\n",
       "      <td>4</td>\n",
       "      <td>71</td>\n",
       "      <td>11</td>\n",
       "      <td>0</td>\n",
       "    </tr>\n",
       "    <tr>\n",
       "      <th>3</th>\n",
       "      <td>148.924</td>\n",
       "      <td>9504</td>\n",
       "      <td>681</td>\n",
       "      <td>3</td>\n",
       "      <td>36</td>\n",
       "      <td>11</td>\n",
       "      <td>0</td>\n",
       "    </tr>\n",
       "    <tr>\n",
       "      <th>4</th>\n",
       "      <td>55.882</td>\n",
       "      <td>4897</td>\n",
       "      <td>357</td>\n",
       "      <td>2</td>\n",
       "      <td>68</td>\n",
       "      <td>16</td>\n",
       "      <td>1</td>\n",
       "    </tr>\n",
       "    <tr>\n",
       "      <th>...</th>\n",
       "      <td>...</td>\n",
       "      <td>...</td>\n",
       "      <td>...</td>\n",
       "      <td>...</td>\n",
       "      <td>...</td>\n",
       "      <td>...</td>\n",
       "      <td>...</td>\n",
       "    </tr>\n",
       "    <tr>\n",
       "      <th>395</th>\n",
       "      <td>12.096</td>\n",
       "      <td>4100</td>\n",
       "      <td>307</td>\n",
       "      <td>3</td>\n",
       "      <td>32</td>\n",
       "      <td>13</td>\n",
       "      <td>1</td>\n",
       "    </tr>\n",
       "    <tr>\n",
       "      <th>396</th>\n",
       "      <td>13.364</td>\n",
       "      <td>3838</td>\n",
       "      <td>296</td>\n",
       "      <td>5</td>\n",
       "      <td>65</td>\n",
       "      <td>17</td>\n",
       "      <td>0</td>\n",
       "    </tr>\n",
       "    <tr>\n",
       "      <th>397</th>\n",
       "      <td>57.872</td>\n",
       "      <td>4171</td>\n",
       "      <td>321</td>\n",
       "      <td>5</td>\n",
       "      <td>67</td>\n",
       "      <td>12</td>\n",
       "      <td>1</td>\n",
       "    </tr>\n",
       "    <tr>\n",
       "      <th>398</th>\n",
       "      <td>37.728</td>\n",
       "      <td>2525</td>\n",
       "      <td>192</td>\n",
       "      <td>1</td>\n",
       "      <td>44</td>\n",
       "      <td>13</td>\n",
       "      <td>1</td>\n",
       "    </tr>\n",
       "    <tr>\n",
       "      <th>399</th>\n",
       "      <td>18.701</td>\n",
       "      <td>5524</td>\n",
       "      <td>415</td>\n",
       "      <td>5</td>\n",
       "      <td>64</td>\n",
       "      <td>7</td>\n",
       "      <td>0</td>\n",
       "    </tr>\n",
       "  </tbody>\n",
       "</table>\n",
       "<p>400 rows × 7 columns</p>\n",
       "</div>"
      ],
      "text/plain": [
       "      Income  Limit  Rating  Cards  Age  Education  Married\n",
       "0     14.891   3606     283      2   34         11        1\n",
       "1    106.025   6645     483      3   82         15        1\n",
       "2    104.593   7075     514      4   71         11        0\n",
       "3    148.924   9504     681      3   36         11        0\n",
       "4     55.882   4897     357      2   68         16        1\n",
       "..       ...    ...     ...    ...  ...        ...      ...\n",
       "395   12.096   4100     307      3   32         13        1\n",
       "396   13.364   3838     296      5   65         17        0\n",
       "397   57.872   4171     321      5   67         12        1\n",
       "398   37.728   2525     192      1   44         13        1\n",
       "399   18.701   5524     415      5   64          7        0\n",
       "\n",
       "[400 rows x 7 columns]"
      ]
     },
     "execution_count": 31,
     "metadata": {},
     "output_type": "execute_result"
    }
   ],
   "source": [
    "# feature columns\n",
    "feature_cols = ['Income', 'Limit', 'Rating', 'Cards', 'Age', 'Education', 'Married']\n",
    "\n",
    "X = df[feature_cols]\n",
    "\n",
    "X"
   ]
  },
  {
   "cell_type": "code",
   "execution_count": 32,
   "metadata": {
    "colab": {
     "base_uri": "https://localhost:8080/"
    },
    "id": "uN5vdrE9Vga6",
    "outputId": "6dfd33cb-51fa-4590-8d58-f9817028b920"
   },
   "outputs": [
    {
     "data": {
      "text/plain": [
       "0      333\n",
       "1      903\n",
       "2      580\n",
       "3      964\n",
       "4      331\n",
       "      ... \n",
       "395    560\n",
       "396    480\n",
       "397    138\n",
       "398      0\n",
       "399    966\n",
       "Name: Balance, Length: 400, dtype: int64"
      ]
     },
     "execution_count": 32,
     "metadata": {},
     "output_type": "execute_result"
    }
   ],
   "source": [
    "# target column\n",
    "y = df['Balance']\n",
    "\n",
    "y"
   ]
  },
  {
   "cell_type": "markdown",
   "metadata": {
    "id": "eAh3RbF2Wy-4"
   },
   "source": [
    "### C. Generate the feature matrix and target vector (target is “balance” in this dataset). Then, normalize (scale) the features (note: don’t normalize the target vector!). To normalize the data, you can simply use scale(X)  from sklearn.\n"
   ]
  },
  {
   "cell_type": "code",
   "execution_count": 33,
   "metadata": {
    "colab": {
     "base_uri": "https://localhost:8080/"
    },
    "id": "rHHYXLT3W9h6",
    "outputId": "a47aa1a9-1628-411a-825c-25a89248904a"
   },
   "outputs": [
    {
     "data": {
      "text/plain": [
       "array([[-0.86158299, -0.48999879, -0.46553881, ..., -1.2576741 ,\n",
       "        -0.78492991,  0.79539491],\n",
       "       [ 1.72743711,  0.82826106,  0.82870309, ...,  1.5284506 ,\n",
       "         0.49658831,  0.79539491],\n",
       "       [ 1.68675551,  1.01478681,  1.02931059, ...,  0.88996369,\n",
       "        -0.78492991, -1.25723711],\n",
       "       ...,\n",
       "       [ 0.35946155, -0.24491264, -0.21963285, ...,  0.65778663,\n",
       "        -0.46455035,  0.79539491],\n",
       "       [-0.21280808, -0.95891584, -1.05441888, ..., -0.67723146,\n",
       "        -0.1441708 ,  0.79539491],\n",
       "       [-0.75334493,  0.34199278,  0.38866085, ...,  0.48365384,\n",
       "        -2.06644812, -1.25723711]])"
      ]
     },
     "execution_count": 33,
     "metadata": {},
     "output_type": "execute_result"
    }
   ],
   "source": [
    "# scaling feature matrix\n",
    "X = scale(X, axis=0, with_mean=True, with_std=True, copy=True)\n",
    "\n",
    "X"
   ]
  },
  {
   "cell_type": "markdown",
   "metadata": {
    "id": "v0Eh7fzeXftU"
   },
   "source": [
    "### D. Split the dataset into testing and training sets with the following parameters: test_size=0.24, random_state=4."
   ]
  },
  {
   "cell_type": "code",
   "execution_count": 34,
   "metadata": {
    "colab": {
     "base_uri": "https://localhost:8080/"
    },
    "id": "uDHHyUDdXeL1",
    "outputId": "e3cebb62-1cd0-464b-dbaf-b7948830eb26"
   },
   "outputs": [
    {
     "name": "stdout",
     "output_type": "stream",
     "text": [
      "(304, 7)\n",
      "(304,)\n",
      "\t\t\t***X_train***\n",
      "\n",
      "[[-0.88314537 -0.75373752 -0.67261752 ...  1.12214075  1.13734742\n",
      "  -1.25723711]\n",
      " [-0.94283255 -0.67392185 -0.62084784 ...  0.13538825  1.45772697\n",
      "   0.79539491]\n",
      " [-0.7462427  -1.41004788 -1.46210508 ...  1.5284506  -0.1441708\n",
      "  -1.25723711]\n",
      " ...\n",
      " [ 0.15568424 -0.32906612 -0.32964341 ...  1.64453913  1.13734742\n",
      "  -1.25723711]\n",
      " [ 2.176554    2.57553014  2.55651604 ... -0.09678881  0.81696786\n",
      "  -1.25723711]\n",
      " [ 0.49383583  1.00654497  0.81576068 ...  1.64453913 -0.78492991\n",
      "  -1.25723711]]\n",
      "\n",
      "\t***y_train***\n",
      "\n",
      "63      133\n",
      "105     210\n",
      "318       0\n",
      "287       0\n",
      "60      631\n",
      "       ... \n",
      "360     712\n",
      "385     905\n",
      "197      69\n",
      "174    1573\n",
      "122     904\n",
      "Name: Balance, Length: 304, dtype: int64\n"
     ]
    }
   ],
   "source": [
    "X_train, X_test, y_train, y_test = train_test_split(X, y, test_size=0.24, random_state=4)\n",
    "\n",
    "print(X_train.shape)\n",
    "print(y_train.shape)\n",
    "print('\\t\\t\\t***X_train***\\n')\n",
    "print(X_train)\n",
    "print('\\n\\t***y_train***\\n')\n",
    "print(y_train)"
   ]
  },
  {
   "cell_type": "markdown",
   "metadata": {
    "id": "e2e0m6pkX59i"
   },
   "source": [
    "### E. Use Linear Regression to train a linear model on the training set. Check the coefficients of the linear regression model. Which feature is the most important? Which feature is the least important?\n",
    "\n",
    "---\n",
    "**Answer E:**</br>\n",
    "**Most important feature:** Rating</br>\n",
    "**Least important feature:** Education</br>\n",
    "\n",
    "---\n",
    ">**Let**:\n",
    "Income = $I$,\n",
    "Limit= $L$,\n",
    "Rating= $R$,\n",
    "Cards = $C$,\n",
    "Age= $A$,\n",
    "Education = $E$,\n",
    "Married = $M$\n",
    ">> $\\Theta_0 = 517.692$, \n",
    "$\\Theta_1 = -264.9837$, \n",
    "$\\Theta_2 = 131.9916$, \n",
    "$\\Theta_3 = 478.5317$, \n",
    "$\\Theta_4 = 14.7212$, \n",
    "$\\Theta_5 = -29.7833$, \n",
    "$\\Theta_6 = 1.6783$, \n",
    "$\\Theta_7 = -20.2062$</br>\n",
    "\n",
    "\n",
    ">> **Predictive model**:</br></br>\n",
    "$y = \\Theta_0 + ( \\Theta_1 \\bullet I) + (\\Theta_2\\bullet L) + (\\Theta_3 \\bullet R) + (\\Theta_4 \\bullet C) + (\\Theta_5 \\bullet A) + (\\Theta_6 \\bullet E) + (\\Theta_7 \\bullet M)$</br></br>\n",
    "\n",
    ">>$y = 517.692 + ( -264.9837 \\bullet I) + (131.9916 \\bullet L) + (478.5317 \\bullet R) + (14.7212 \\bullet C) + (-29.7833 \\bullet A) + (1.6783 \\bullet E) + (-20.2062 \\bullet M)$\n",
    "\n"
   ]
  },
  {
   "cell_type": "code",
   "execution_count": 35,
   "metadata": {
    "colab": {
     "base_uri": "https://localhost:8080/"
    },
    "id": "Nw2ssB3TYPjf",
    "outputId": "c06cebdb-6eb5-4c47-b24b-57a8f9963fa0"
   },
   "outputs": [
    {
     "data": {
      "text/plain": [
       "LinearRegression()"
      ]
     },
     "execution_count": 35,
     "metadata": {},
     "output_type": "execute_result"
    }
   ],
   "source": [
    "# linear regression instance\n",
    "lr = LinearRegression()\n",
    "\n",
    "# fitting model to the training data\n",
    "lr.fit(X_train, y_train)\n"
   ]
  },
  {
   "cell_type": "code",
   "execution_count": 36,
   "metadata": {
    "colab": {
     "base_uri": "https://localhost:8080/"
    },
    "id": "lJL0zRzlY0Xy",
    "outputId": "b84bebbe-d1c4-4dc7-e61b-27eb7e3c9a28"
   },
   "outputs": [
    {
     "name": "stdout",
     "output_type": "stream",
     "text": [
      "Intercept, Theta_0: 517.6919750342976\n",
      "\n",
      "[Theta_1, Theta_2, ..., Theta_7]: [-264.98372644  131.99156792  478.53169403   14.72121881  -29.7832935\n",
      "    1.67827514  -20.20616103]\n",
      "\n"
     ]
    }
   ],
   "source": [
    "# printing Theta_0 using attribute 'intercept_'\n",
    "print(f'Intercept, Theta_0: {lr.intercept_}\\n')\n",
    "\n",
    "# printing [Theta_1, Theta_2, Theta_3] using attribute 'coef_'\n",
    "print(f'[Theta_1, Theta_2, ..., Theta_7]: {lr.coef_}\\n')\n",
    "\n"
   ]
  },
  {
   "cell_type": "code",
   "execution_count": 37,
   "metadata": {
    "colab": {
     "base_uri": "https://localhost:8080/",
     "height": 622
    },
    "id": "wa8hwQSciJcy",
    "outputId": "7cee9ea0-e668-4584-f1a4-55f8b112ef7e"
   },
   "outputs": [
    {
     "name": "stdout",
     "output_type": "stream",
     "text": [
      "Feature 0: Income\n",
      "Score: -264.9837264395968\n",
      "\n",
      "Feature 1: Limit\n",
      "Score: 131.991567915362\n",
      "\n",
      "Feature 2: Rating\n",
      "Score: 478.5316940349278\n",
      "\n",
      "Feature 3: Cards\n",
      "Score: 14.721218808685336\n",
      "\n",
      "Feature 4: Age\n",
      "Score: -29.783293502230666\n",
      "\n",
      "Feature 5: Education\n",
      "Score: 1.678275139971817\n",
      "\n",
      "Feature 6: Married\n",
      "Score: -20.206161027400846\n",
      "\n"
     ]
    },
    {
     "data": {
      "image/png": "[encoded data removed]",
      "text/plain": [
       "<Figure size 432x288 with 1 Axes>"
      ]
     },
     "metadata": {
      "needs_background": "light"
     },
     "output_type": "display_data"
    }
   ],
   "source": [
    "from matplotlib import pyplot\n",
    "\n",
    "importance = lr.coef_\n",
    "\n",
    "for i, v in enumerate(importance):\n",
    "    print(f'Feature {i}: {feature_cols[i]}\\nScore: {v}\\n')\n",
    "pyplot.bar([x for x in range(len(importance))], importance)\n",
    "pyplot.show()"
   ]
  },
  {
   "cell_type": "markdown",
   "metadata": {
    "id": "lzoEiUb5nW1W"
   },
   "source": [
    "### F. Predict “balance” for the users in testing set. Then, compare the predicted balance with the actual balance by calculating and reporting the RMSE (as we saw in lab tutorial 4).\n",
    "\n",
    "---\n",
    "**Answer F:**</br>\n",
    "**RMSE**: $161.51385491175324$"
   ]
  },
  {
   "cell_type": "code",
   "execution_count": 38,
   "metadata": {
    "colab": {
     "base_uri": "https://localhost:8080/"
    },
    "id": "HxNcHByNnjG8",
    "outputId": "bcfc45ef-ccd8-4ad4-cc11-39e584b11d40"
   },
   "outputs": [
    {
     "name": "stdout",
     "output_type": "stream",
     "text": [
      "[ 1.40192822e+03  3.72390498e+02  3.09606997e+02  7.75587837e+02\n",
      "  3.63641910e+02  9.54490329e+02  3.20745279e+02 -2.32591690e+02\n",
      "  3.99394342e+02  6.01919205e+02 -2.52478552e+02  3.82362570e+02\n",
      "  4.72524424e+02  7.15924136e+02  1.11080816e+01  6.76777695e+02\n",
      " -1.10205182e+02  2.34123414e+02 -2.17604376e+02  1.36106372e+03\n",
      "  3.62716990e+02 -7.18441620e+01  3.46590403e+02 -3.48468421e+00\n",
      " -1.98897875e+02 -3.79979558e+01  7.87248445e+02  3.41641943e+02\n",
      "  6.76645933e+02 -5.36248977e+01  7.73056436e+02  1.50270904e+01\n",
      "  9.34623394e+02  3.80185173e+02  7.48107862e+02 -2.85720687e+02\n",
      "  1.00583355e+03  5.07594510e+02 -1.40361418e+02  1.10973338e+03\n",
      "  1.08474720e+03  3.98005654e+02  6.40559128e+02  9.08998220e+02\n",
      "  6.99056037e+02  7.92919368e+02  3.82003132e+02  9.70862036e+02\n",
      "  3.34390882e+02  1.16908059e+03  2.43605505e+02  2.78833488e+02\n",
      " -6.23362942e-01  3.85459830e+01  2.49931072e+02  8.25222693e+02\n",
      " -1.98555175e+02  5.71140218e+01  1.17285043e+03  9.81760238e+02\n",
      " -6.84711889e+00  2.70524823e+02  1.08559503e+03  7.15655323e+02\n",
      "  1.30819411e+02  5.64236980e+02  8.30184087e+02  1.49315369e+03\n",
      "  8.63297507e+02  4.74956374e+02  9.84021756e+01  6.89313125e+02\n",
      "  9.13786870e+02  4.31100337e+02  8.78305055e+02 -1.75046527e+02\n",
      " -1.04907554e+02  1.40496710e+03  1.01565064e+03  6.65436313e+01\n",
      "  1.92415294e+02  4.70577920e+02  1.10527713e+03  8.87580838e+02\n",
      "  1.06491174e+03  8.09197398e+02  4.77326285e+02  8.75818625e+02\n",
      "  1.03458765e+03 -1.92109932e+02 -1.47672260e+01  9.64020835e+02\n",
      "  5.05529492e+02  1.08659975e+03 -2.63344522e+02  9.93883438e+01]\n"
     ]
    }
   ],
   "source": [
    "y_prediction = lr.predict(X_test)\n",
    "\n",
    "print(y_prediction)"
   ]
  },
  {
   "cell_type": "code",
   "execution_count": 39,
   "metadata": {
    "colab": {
     "base_uri": "https://localhost:8080/"
    },
    "id": "AEFJrQXpnqnY",
    "outputId": "9405018d-391c-4398-f943-3d48725a8806"
   },
   "outputs": [
    {
     "name": "stdout",
     "output_type": "stream",
     "text": [
      "161.51385491175324\n"
     ]
    }
   ],
   "source": [
    "mse = mean_squared_error(y_test, y_prediction)\n",
    "\n",
    "rmse = np.sqrt(mse)\n",
    "\n",
    "print(rmse)"
   ]
  },
  {
   "cell_type": "markdown",
   "metadata": {
    "id": "ein4KT3F3ds1"
   },
   "source": [
    "### G. Now, use 10-fold Cross-Validation to evaluate the performance of a linear regression in predicting the balance. Thus, rather than splitting the dataset into testing and training, use Cross-Validation to evaluate the regression performance. What is the RMSE when you use cross validation?\n",
    "\n",
    "---\n",
    "**Answer G:**</br>\n",
    "**RMSE w/ Cross-Validation (mean)**: $160.33198910744136$"
   ]
  },
  {
   "cell_type": "code",
   "execution_count": 40,
   "metadata": {
    "colab": {
     "base_uri": "https://localhost:8080/"
    },
    "id": "aU-8Ni1_08lZ",
    "outputId": "93401ce8-5d50-403e-ff1e-38da83796a29"
   },
   "outputs": [
    {
     "name": "stdout",
     "output_type": "stream",
     "text": [
      "[-23646.90415343 -32003.04401232 -35462.64435619 -37327.60719635\n",
      " -14341.32205939 -33628.37104224 -31631.99317834 -12491.00334951\n",
      " -20749.61212175 -23204.94743459]\n"
     ]
    }
   ],
   "source": [
    "accuracy_list = cross_val_score(lr, X, y, cv=10, scoring='neg_mean_squared_error')\n",
    "\n",
    "print(accuracy_list)"
   ]
  },
  {
   "cell_type": "code",
   "execution_count": 41,
   "metadata": {
    "colab": {
     "base_uri": "https://localhost:8080/"
    },
    "id": "pkaoIZZl1Fni",
    "outputId": "6d364395-3d9a-442a-c849-c8ecfa175369"
   },
   "outputs": [
    {
     "name": "stdout",
     "output_type": "stream",
     "text": [
      "[153.7754992  178.89394627 188.31527914 193.20353826 119.75525901\n",
      " 183.38039983 177.85385343 111.76315739 144.04725656 152.331702  ]\n"
     ]
    }
   ],
   "source": [
    "mse_list_positive = -accuracy_list\n",
    "\n",
    "rmse_list = np.sqrt(mse_list_positive)\n",
    "\n",
    "print(rmse_list)"
   ]
  },
  {
   "cell_type": "code",
   "execution_count": 42,
   "metadata": {
    "colab": {
     "base_uri": "https://localhost:8080/"
    },
    "id": "ntOZmjKE1NFX",
    "outputId": "414f9a93-c61d-48ea-9b3c-6847cd2ad839"
   },
   "outputs": [
    {
     "name": "stdout",
     "output_type": "stream",
     "text": [
      "Mean value of RMSE list :  160.33198910744133\n"
     ]
    }
   ],
   "source": [
    "print('Mean value of RMSE list : ', rmse_list.mean())"
   ]
  }
 ],
 "metadata": {
  "colab": {
   "name": "cs4661_homework3_question2.ipynb",
   "provenance": []
  },
  "kernelspec": {
   "display_name": "Python 3",
   "language": "python",
   "name": "python3"
  },
  "language_info": {
   "codemirror_mode": {
    "name": "ipython",
    "version": 3
   },
   "file_extension": ".py",
   "mimetype": "text/x-python",
   "name": "python",
   "nbconvert_exporter": "python",
   "pygments_lexer": "ipython3",
   "version": "3.8.8"
  }
 },
 "nbformat": 4,
 "nbformat_minor": 1
}